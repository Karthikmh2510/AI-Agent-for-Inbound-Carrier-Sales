{
 "cells": [
  {
   "cell_type": "code",
   "execution_count": 25,
   "id": "e9f7107e",
   "metadata": {},
   "outputs": [
    {
     "data": {
      "text/plain": [
       "True"
      ]
     },
     "execution_count": 25,
     "metadata": {},
     "output_type": "execute_result"
    }
   ],
   "source": [
    "import os, json\n",
    "from typing import Literal, TypedDict\n",
    "\n",
    "from dotenv import load_dotenv\n",
    "from langgraph.graph import StateGraph, END, START\n",
    "from langgraph.graph.message import add_messages\n",
    "from langchain_openai import ChatOpenAI\n",
    "from langchain_core.prompts import ChatPromptTemplate\n",
    "\n",
    "load_dotenv()"
   ]
  },
  {
   "cell_type": "code",
   "execution_count": 26,
   "id": "7a6d9f88",
   "metadata": {},
   "outputs": [],
   "source": [
    "OPENAI_KEY = os.getenv(\"OPENAI_API_KEY\")\n",
    "LLM = ChatOpenAI(model=\"gpt-4o-mini\", api_key=OPENAI_KEY, temperature=0.2)"
   ]
  },
  {
   "cell_type": "code",
   "execution_count": 27,
   "id": "cd952dba",
   "metadata": {},
   "outputs": [],
   "source": [
    "# ── Constants -----------------------------------------------------------------\n",
    "MAX_MARGIN       = 0.15   # accept if ≤ 15 % below board\n",
    "MAX_COUNTER_DIFF = 0.30   # counter if ≤ 30 % below board\n",
    "COUNTER_STEP     = 0.05   # counter = offer +5 % of board\n",
    "MAX_ATTEMPTS     = 3\n",
    "\n",
    "# ── State schema --------------------------------------------------------------\n",
    "class NegotiationState(TypedDict, total=False):\n",
    "    board_rate: int\n",
    "    offer: float\n",
    "    attempts: int\n",
    "    result: dict    # {\"status\": str, \"target_rate\": float, \"message\": str}"
   ]
  },
  {
   "cell_type": "code",
   "execution_count": 28,
   "id": "faea2564",
   "metadata": {},
   "outputs": [],
   "source": [
    "system_prompt = \"\"\"\n",
    "    You are “AcmeBot,” a senior freight broker tasked with negotiating\n",
    "    spot-market rates with carrier drivers.\n",
    "    Respond ONLY with valid JSON (no extra text) containing the keys\n",
    "    `status`, `target_rate`, and `message`.\n",
    "\n",
    "    Context\n",
    "    • Board (posted) rate ...............  {board_rate}\n",
    "    • Driver’s current offer ............  {offer}\n",
    "    • You may make at most three counter-rounds in total.\n",
    "    • All money values are whole US dollars (no cents).\n",
    "\n",
    "    Decision rules\n",
    "    1. **Accept**  – If the driver’s offer is ≤ 15 % below the board rate.\n",
    "    2. **Counter** – If the driver’s offer is > 15 % and ≤ 30 % below the board\n",
    "       rate.  Your counter must be `offer + (5 % × board_rate)`, rounded to the\n",
    "       nearest dollar.\n",
    "    3. **Reject**  – If the driver’s offer is > 30 % below the board rate OR if\n",
    "       this round would exceed the 3-round limit.\n",
    "    Return STRICT JSON only.\n",
    "\"\"\"\n",
    "\n",
    "prompt = ChatPromptTemplate.from_messages(\n",
    "    [\n",
    "        (\"system\", system_prompt),\n",
    "        (\"human\", \"Board rate is: ${board_rate}\\nCurrent offer: ${offer}\"),\n",
    "    ]\n",
    ")"
   ]
  },
  {
   "cell_type": "code",
   "execution_count": 29,
   "id": "4425732f",
   "metadata": {},
   "outputs": [],
   "source": [
    "def llm_init(board_rate:int,offer:float) -> dict:\n",
    "    \"\"\"\n",
    "    Ask the LLM to evaluate one negotiation round and return a JSON dict\n",
    "    with status / target_rate / message.\n",
    "    \"\"\"\n",
    "    # render messages from the template\n",
    "    msgs = prompt.format_messages(board_rate=board_rate, offer=offer)\n",
    "\n",
    "    resp = LLM.invoke(msgs)          \n",
    "\n",
    "    # extract text\n",
    "    text = resp.content if hasattr(resp, \"content\") else str(resp)\n",
    "\n",
    "    try:\n",
    "        return json.loads(text)\n",
    "    except Exception as exc:\n",
    "        raise ValueError(f\"LLM returned non-JSON: {text!r}\") from exc"
   ]
  },
  {
   "cell_type": "code",
   "execution_count": 30,
   "id": "ae3e7438",
   "metadata": {},
   "outputs": [],
   "source": [
    "def decide_round(board_rate: int, offer: float, tries: int) -> dict:\n",
    "    diff = (board_rate - offer) / board_rate\n",
    "    # Accept ------------------------------------------------------------------\n",
    "    if diff <= MAX_MARGIN:\n",
    "        return {\n",
    "            \"status\": \"accept\",\n",
    "            \"target_rate\": offer,\n",
    "            \"message\": f\"Understood. We can confirm at **${offer:,.0f}** and book the load.\"\n",
    "        }\n",
    "\n",
    "    # Counter -----------------------------------------------------------------\n",
    "    if diff <= MAX_COUNTER_DIFF and tries < MAX_ATTEMPTS:\n",
    "        tgt = offer + board_rate * COUNTER_STEP\n",
    "        return {\n",
    "            \"status\": \"counter\",\n",
    "            \"target_rate\": round(tgt, 2),\n",
    "            \"message\": (\n",
    "                f\"I can meet you at **${tgt:,.0f}** on this lane. \"\n",
    "                \"Would that be acceptable?\"\n",
    "            ),\n",
    "        }\n",
    "\n",
    "    # Reject ------------------------------------------------------------------\n",
    "    return {\n",
    "        \"status\": \"reject\",\n",
    "        \"target_rate\": board_rate,\n",
    "        \"message\": (\n",
    "            \"I’m afraid we’re too far apart on rate for this load. \"\n",
    "            \"Let’s reconnect on another opportunity.\"\n",
    "        ),\n",
    "    }"
   ]
  },
  {
   "cell_type": "code",
   "execution_count": 31,
   "id": "e2bbeb11",
   "metadata": {},
   "outputs": [],
   "source": [
    "def evaluate(state: NegotiationState) -> NegotiationState:\n",
    "    \"\"\"Graph node: run one negotiation evaluation.\"\"\"\n",
    "    board_rate, offer, tries = state[\"board_rate\"], state[\"offer\"], state[\"attempts\"]\n",
    "\n",
    "    result = llm_init(board_rate, offer)\n",
    "    if not result:\n",
    "        result = decide_round(board_rate, offer, tries)\n",
    "\n",
    "    next_state = state.copy()\n",
    "    next_state[\"result\"] = result\n",
    "\n",
    "    if result[\"status\"] == \"counter\":\n",
    "        next_state[\"offer\"]    = result[\"target_rate\"]\n",
    "        next_state[\"attempts\"] = tries + 1\n",
    "\n",
    "    return next_state"
   ]
  },
  {
   "cell_type": "code",
   "execution_count": 32,
   "id": "73374379",
   "metadata": {},
   "outputs": [],
   "source": [
    "def router(state: NegotiationState) -> Literal[\"accept\",\"reject\",\"counter\"]:\n",
    "    status   = state[\"result\"][\"status\"]\n",
    "    attempts = state[\"attempts\"]\n",
    "    if status == \"counter\" and attempts > MAX_ATTEMPTS:\n",
    "        return \"reject\"\n",
    "    return status"
   ]
  },
  {
   "cell_type": "code",
   "execution_count": 33,
   "id": "f89b556b",
   "metadata": {},
   "outputs": [],
   "source": [
    "wf = StateGraph(NegotiationState, name=\"AgenticNegotiation\")\n",
    "\n",
    "wf.add_node(\"Evaluate\", evaluate)\n",
    "wf.add_edge(START, \"Evaluate\")\n",
    "\n",
    "wf.add_conditional_edges(\"Evaluate\", router,\n",
    "                         {\"accept\": END, \"reject\": END, \"counter\": \"Evaluate\"})\n",
    "\n",
    "GRAPH = wf.compile()"
   ]
  },
  {
   "cell_type": "code",
   "execution_count": 34,
   "id": "4b9f3334",
   "metadata": {},
   "outputs": [
    {
     "data": {
      "image/png": "[encoded data removed]",
      "text/plain": [
       "<langgraph.graph.state.CompiledStateGraph object at 0x00000298A7A2D250>"
      ]
     },
     "execution_count": 34,
     "metadata": {},
     "output_type": "execute_result"
    }
   ],
   "source": [
    "GRAPH"
   ]
  },
  {
   "cell_type": "code",
   "execution_count": 35,
   "id": "a29c8c22",
   "metadata": {},
   "outputs": [],
   "source": [
    "# ── Public helper -------------------------------------------------------------\n",
    "def run_negotiation(board_rate: int, initial_offer: float, attempts: int = 1) -> dict:\n",
    "    \"\"\"\n",
    "    Args:\n",
    "        board_rate    – Load board rate\n",
    "        initial_offer – Carrier’s first offer\n",
    "        attempts      – Current attempt count (1-based)\n",
    "\n",
    "    Returns JSON dict with keys: status, target_rate, message\n",
    "    \"\"\"\n",
    "    init: NegotiationState = {\n",
    "        \"board_rate\": board_rate,\n",
    "        \"offer\":      initial_offer,\n",
    "        \"attempts\":   attempts,\n",
    "    }\n",
    "    final = GRAPH.invoke(init)\n",
    "    return final[\"result\"]"
   ]
  },
  {
   "cell_type": "code",
   "execution_count": 36,
   "id": "84021736",
   "metadata": {},
   "outputs": [
    {
     "name": "stdout",
     "output_type": "stream",
     "text": [
      "board=2300  offer=2400 → {'status': 'accept', 'target_rate': 2400, 'message': 'We accept your offer of $2400.'}\n",
      "board=2300  offer=2000 → {'status': 'accept', 'target_rate': 2150, 'message': \"Accepted the driver's offer.\"}\n",
      "board=2300  offer=1800 → {'status': 'counter', 'target_rate': 2150, 'message': 'I can offer you $2150.'}\n",
      "board=2300  offer=1500 → {'status': 'reject', 'target_rate': None, 'message': \"The driver's offer is more than 30% below the board rate.\"}\n"
     ]
    }
   ],
   "source": [
    "tests = [\n",
    "    (2300, 2400, 1),   # already above board → accept\n",
    "    (2300, 2000, 1),   # 13 % below board → accept\n",
    "    (2300, 1800, 1),   # 22 % below board → counter\n",
    "    (2300, 1500, 1),   # 35 % below board → reject\n",
    "]\n",
    "\n",
    "for board, offer, tries in tests:\n",
    "    out = run_negotiation(board, offer, tries)\n",
    "    print(f\"board={board}  offer={offer} → {out}\")\n"
   ]
  },
  {
   "cell_type": "code",
   "execution_count": 71,
   "id": "e4e44450",
   "metadata": {},
   "outputs": [
    {
     "name": "stdout",
     "output_type": "stream",
     "text": [
      "HTTP: 200\n",
      "{'content': [{'_links': {'basics': {'href': 'https://mobile.fmcsa.dot.gov/qc/services/carriers/121058/basics'},\n",
      "                         'cargo carried': {'href': 'https://mobile.fmcsa.dot.gov/qc/services/carriers/121058/cargo-carried'},\n",
      "                         'operation classification': {'href': 'https://mobile.fmcsa.dot.gov/qc/services/carriers/121058/operation-classification'},\n",
      "                         'docket numbers': {'href': 'https://mobile.fmcsa.dot.gov/qc/services/carriers/121058/docket-numbers'},\n",
      "                         'carrier active-For-hire authority': {'href': 'https://mobile.fmcsa.dot.gov/qc/services/carriers/121058/authority'}},\n",
      "              'carrier': {'allowedToOperate': 'Y',\n",
      "                          'bipdInsuranceOnFile': '5000',\n",
      "                          'bipdInsuranceRequired': 'Y',\n",
      "                          'bipdRequiredAmount': '5000',\n",
      "                          'bondInsuranceOnFile': '75',\n",
      "                          'bondInsuranceRequired': 'Y',\n",
      "                          'brokerAuthorityStatus': 'A',\n",
      "                          'cargoInsuranceOnFile': '0',\n",
      "                          'cargoInsuranceRequired': 'u',\n",
      "                          'carrierOperation': {'carrierOperationCode': 'A',\n",
      "                                               'carrierOperationDesc': 'Interstate'},\n",
      "                          'censusTypeId': {'censusType': 'C',\n",
      "                                           'censusTypeDesc': 'CARRIER',\n",
      "                                           'censusTypeId': 1},\n",
      "                          'commonAuthorityStatus': 'A',\n",
      "                          'contractAuthorityStatus': 'A',\n",
      "                          'crashTotal': 218,\n",
      "                          'dbaName': 'TFORCE FREIGHT',\n",
      "                          'dotNumber': 121058,\n",
      "                          'driverInsp': 3396,\n",
      "                          'driverOosInsp': 33,\n",
      "                          'driverOosRate': 0.9717314487632509,\n",
      "                          'driverOosRateNationalAverage': '5.51',\n",
      "                          'ein': 540481236,\n",
      "                          'fatalCrash': 3,\n",
      "                          'hazmatInsp': 785,\n",
      "                          'hazmatOosInsp': 24,\n",
      "                          'hazmatOosRate': 3.0573248407643314,\n",
      "                          'hazmatOosRateNationalAverage': '4.5',\n",
      "                          'injCrash': 63,\n",
      "                          'isPassengerCarrier': None,\n",
      "                          'issScore': None,\n",
      "                          'legalName': 'TFORCE FREIGHT INC',\n",
      "                          'mcs150Outdated': 'N',\n",
      "                          'oosDate': None,\n",
      "                          'oosRateNationalAverageYear': '2009-2010',\n",
      "                          'phyCity': 'HENRICO',\n",
      "                          'phyCountry': 'US',\n",
      "                          'phyState': 'VA',\n",
      "                          'phyStreet': '9954 MAYLAND DRIVE  SUITE 3000',\n",
      "                          'phyZipcode': '23233',\n",
      "                          'reviewDate': '2024-03-06',\n",
      "                          'reviewType': 'N',\n",
      "                          'safetyRating': 'S',\n",
      "                          'safetyRatingDate': '2002-07-01',\n",
      "                          'safetyReviewDate': '2024-03-06',\n",
      "                          'safetyReviewType': 'N',\n",
      "                          'snapshotDate': None,\n",
      "                          'statusCode': 'A',\n",
      "                          'totalDrivers': 4472,\n",
      "                          'totalPowerUnits': 3907,\n",
      "                          'towawayCrash': 152,\n",
      "                          'vehicleInsp': 2190,\n",
      "                          'vehicleOosInsp': 373,\n",
      "                          'vehicleOosRate': 17.031963470319635,\n",
      "                          'vehicleOosRateNationalAverage': '20.72'}}],\n",
      " 'retrievalDate': '2025-08-04T23:19:17.189+0000'}\n"
     ]
    }
   ],
   "source": [
    "import os, requests, pprint\n",
    "url = \"https://mobile.fmcsa.dot.gov/qc/services/carriers/docket-number/109533\"\n",
    "r = requests.get(url, params={\"webKey\": WEBKEY}, timeout=10)\n",
    "data = r.json()                            # could be dict, list, or []\n",
    "status = r.status_code\n",
    "\n",
    "print(\"HTTP:\", status)\n",
    "pprint.pp(data) "
   ]
  },
  {
   "cell_type": "markdown",
   "id": "ab91eb5e",
   "metadata": {},
   "source": [
    "# Testing FMCSA Authentication"
   ]
  },
  {
   "cell_type": "code",
   "execution_count": 79,
   "id": "e3c32271",
   "metadata": {},
   "outputs": [
    {
     "name": "stdout",
     "output_type": "stream",
     "text": [
      "{'eligible': True, 'mc': '121805', 'dot': 239039, 'name': 'FEDEX FREIGHT INC', 'state': 'AR'}\n",
      "{'eligible': True, 'mc': '109533', 'dot': 121058, 'name': 'TFORCE FREIGHT INC', 'state': 'VA'}\n",
      "{'eligible': True, 'mc': '166960', 'dot': 241572, 'name': 'LANDSTAR RANGER INC', 'state': 'FL'}\n",
      "{'eligible': True, 'mc': '133655', 'dot': 264184, 'name': 'SCHNEIDER NATIONAL CARRIERS INC', 'state': 'WI'}\n"
     ]
    }
   ],
   "source": [
    "import re, requests, os\n",
    "from dotenv import load_dotenv\n",
    "load_dotenv()\n",
    "WEBKEY = os.getenv(\"FMCSA_WEBKEY\")\n",
    "\n",
    "BASE = \"https://mobile.fmcsa.dot.gov/qc/services\"\n",
    "TIMEOUT = 10\n",
    "\n",
    "def verify_mc(mc_number: str | int, webkey: str) -> dict:\n",
    "    mc_number = re.sub(r\"\\D\", \"\", str(mc_number))        # strip “MC-”\n",
    "    url = f\"{BASE}/carriers/docket-number/{mc_number}\"\n",
    "    data = requests.get(url, params={\"webKey\": webkey}, timeout=TIMEOUT).json()\n",
    "\n",
    "    # --- normalise carrier object regardless of wrapper -----------------\n",
    "    if isinstance(data, list):                      # name search\n",
    "        carrier = data[0] if data else None\n",
    "    elif isinstance(data, dict):\n",
    "        if \"content\" in data and data[\"content\"]:\n",
    "            carrier = data[\"content\"][0].get(\"carrier\")\n",
    "        else:                                       # /carriers/<dot>\n",
    "            carrier = data.get(\"carrier\")\n",
    "    else:\n",
    "        carrier = None\n",
    "\n",
    "    if carrier:\n",
    "        return {\n",
    "            \"eligible\": True,\n",
    "            \"mc\": mc_number,\n",
    "            \"dot\": carrier.get(\"dotNumber\"),\n",
    "            \"name\": carrier.get(\"legalName\"),\n",
    "            \"state\": carrier.get(\"phyState\"),\n",
    "        }\n",
    "\n",
    "    # fall-back – empty list or explicit error block\n",
    "    return {\n",
    "        \"eligible\": False,\n",
    "        \"mc\": mc_number,\n",
    "        \"status\": data.get(\"errorMessage\", \"NOT_FOUND\")\n",
    "        if isinstance(data, dict) else \"NOT_FOUND\",\n",
    "    }\n",
    "\n",
    "for mc in (\"121805\", \"109533\", \"166960\", \"133655\"):\n",
    "    print(verify_mc(mc, WEBKEY))\n"
   ]
  },
  {
   "cell_type": "code",
   "execution_count": 78,
   "id": "1fb7fad3",
   "metadata": {},
   "outputs": [
    {
     "data": {
      "text/plain": [
       "{'mc_number': '121805',\n",
       " 'eligible': True,\n",
       " 'status': 'SUCCESS',\n",
       " 'carrier_name': 'FEDEX FREIGHT INC'}"
      ]
     },
     "execution_count": 78,
     "metadata": {},
     "output_type": "execute_result"
    }
   ],
   "source": [
    "import os, re\n",
    "import requests\n",
    "from dotenv import load_dotenv\n",
    "load_dotenv()\n",
    "WEBKEY = os.getenv(\"FMCSA_WEBKEY\")\n",
    "\n",
    "def verify_mc(mc_number: str | int,\n",
    "              webkey: str,\n",
    "              timeout: int = 10) -> dict:\n",
    "    \"\"\"\n",
    "    Look up an MC docket number via FMCSA QCMobile and return a\n",
    "    compact status block.\n",
    "\n",
    "    Returns\n",
    "    -------\n",
    "    dict with keys:\n",
    "        mc_number     str   – digits only\n",
    "        eligible      bool  – True if carrier record found\n",
    "        status        str   – 'SUCCESS', 'NOT_FOUND', or API error message\n",
    "        carrier_name  str|None\n",
    "    \"\"\"\n",
    "    # 1. sanitise MC -> digits only\n",
    "    mc_number = re.sub(r\"\\D\", \"\", str(mc_number))\n",
    "    url = f\"https://mobile.fmcsa.dot.gov/qc/services/carriers/docket-number/{mc_number}\"\n",
    "\n",
    "    try:\n",
    "        resp  = requests.get(url,\n",
    "                             params={\"webKey\": webkey},\n",
    "                             timeout=timeout)\n",
    "        data  = resp.json()          # may be list, dict, or []\n",
    "    except Exception as exc:         # network or JSON error\n",
    "        return {\n",
    "            \"mc_number\": mc_number,\n",
    "            \"eligible\":  False,\n",
    "            \"status\":    f\"REQUEST_ERROR: {exc}\",\n",
    "            \"carrier_name\": None,\n",
    "        }\n",
    "\n",
    "    # 2. locate the carrier block regardless of wrapper\n",
    "    carrier = None\n",
    "    if isinstance(data, list) and data:\n",
    "        carrier = data[0]\n",
    "    elif isinstance(data, dict):\n",
    "        if \"content\" in data and data[\"content\"]:\n",
    "            carrier = data[\"content\"][0].get(\"carrier\") \\\n",
    "                      or data[\"content\"][0]\n",
    "        elif \"carrier\" in data:\n",
    "            carrier = data[\"carrier\"]\n",
    "\n",
    "    # 3. build return payload\n",
    "    if carrier:\n",
    "        name = (carrier.get(\"legalName\")\n",
    "                or carrier.get(\"dbaName\")\n",
    "                or carrier.get(\"entityName\"))\n",
    "        return {\n",
    "            \"mc_number\": mc_number,\n",
    "            \"eligible\":  True,\n",
    "            \"status\":    \"SUCCESS\",\n",
    "            \"carrier_name\": name,\n",
    "        }\n",
    "\n",
    "    # fall-back: empty list or explicit error dict\n",
    "    status_msg = (\"NOT_FOUND\"\n",
    "                  if not isinstance(data, dict)\n",
    "                  else data.get(\"errorMessage\", \"NOT_FOUND\"))\n",
    "    return {\n",
    "        \"mc_number\": mc_number,\n",
    "        \"eligible\":  False,\n",
    "        \"status\":    status_msg,\n",
    "        \"carrier_name\": None,\n",
    "    }\n",
    "\n",
    "\n",
    "verify_mc(\"121805\", WEBKEY)  # example call"
   ]
  },
  {
   "cell_type": "code",
   "execution_count": null,
   "id": "d639e81b",
   "metadata": {},
   "outputs": [],
   "source": []
  }
 ],
 "metadata": {
  "kernelspec": {
   "display_name": "AI-Agent-for-Inbound-Carrier-Sales",
   "language": "python",
   "name": "python3"
  },
  "language_info": {
   "codemirror_mode": {
    "name": "ipython",
    "version": 3
   },
   "file_extension": ".py",
   "mimetype": "text/x-python",
   "name": "python",
   "nbconvert_exporter": "python",
   "pygments_lexer": "ipython3",
   "version": "3.11.5"
  }
 },
 "nbformat": 4,
 "nbformat_minor": 5
}
